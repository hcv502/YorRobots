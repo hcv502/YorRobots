{
 "cells": [
  {
   "cell_type": "code",
   "execution_count": 1,
   "id": "90139f4b",
   "metadata": {},
   "outputs": [
    {
     "name": "stdout",
     "output_type": "stream",
     "text": [
      "[base, link1, link2]\n",
      "[base, shoulder, joint]\n",
      "[base, shoulder, joint]\n"
     ]
    }
   ],
   "source": [
    "import sympy as sp\n",
    "from sympy.physics.vector import init_vprinting\n",
    "init_vprinting(use_latex='mathjax', pretty_print=False)\n",
    "from sympy.physics.mechanics import dynamicsymbols, Point, ReferenceFrame\n",
    "import xml.etree.ElementTree as ET\n",
    "tree = ET.parse('model1.xml')\n",
    "root = tree.getroot()\n",
    "from lxml.etree import fromstring\n",
    "theta1, theta2, theta3 = dynamicsymbols('theta1 theta2 theta3')\n",
    "links = []\n",
    "joints = []\n",
    "for item in root.findall('./model/'):\n",
    "    if item.tag == 'joint':\n",
    "        joints.append(item.attrib['name'])\n",
    "for item in root.findall('./model/'):\n",
    "    if item.tag == 'link':\n",
    "        links.append(item.attrib['name'])\n",
    "keys = ['x','y','z','roll','pitch','yaw']\n",
    "values = []\n",
    "for x in joints:\n",
    "    for item in root.findall('./model/'):\n",
    "        if item.attrib['name'] == x:\n",
    "            for child in item:\n",
    "                if child.tag == 'pose':\n",
    "                    values.append(child.text.split())\n",
    "linkvalues = []\n",
    "for x in links:\n",
    "    for item in root.findall('./model/'):\n",
    "        if item.attrib['name'] == x:\n",
    "            for child in item:\n",
    "                if child.tag == 'pose':\n",
    "                    linkvalues.append(child.text.split())\n",
    "linkposes = dict(zip(links, map(list, (zip(*linkvalues)))))\n",
    "lin = dict(zip(links, linkvalues))\n",
    "jointposes = dict(zip(joints, values))\n",
    "referenceframelist = []\n",
    "i = 0\n",
    "for key in lin:\n",
    "    key = ReferenceFrame(key.split()[0])\n",
    "    i +=1\n",
    "    referenceframelist.append(key)\n",
    "a = 0\n",
    "referenceframelist2 = []\n",
    "for key in jointposes:\n",
    "    key = ReferenceFrame(key.split()[0])\n",
    "    a +=1\n",
    "    referenceframelist2.append(key)\n",
    "\n",
    "base_frame = ReferenceFrame('base')\n",
    "referenceframelist2.insert(0, base_frame)\n",
    "\n",
    "print(referenceframelist)\n",
    "print(referenceframelist2)\n",
    "\n",
    "for x in jointposes:\n",
    "    for i in range(6):\n",
    "        jointposes[x][i] = float(jointposes[x][i])\n",
    "\n",
    "jointangles = []\n",
    "a = 1\n",
    "for item in joints:\n",
    "    jointangles.append(('theta' + str(a)))\n",
    "    a = a+1\n",
    "\n",
    "\n",
    "jointangletheta = []\n",
    "for value in jointangles:\n",
    "    value = dynamicsymbols(value)\n",
    "    jointangletheta.append(value)\n",
    "\n",
    "\n",
    "axisvalues = []\n",
    "for x in joints:\n",
    "    for item in root.findall('./model/'):\n",
    "        if item.attrib['name'] == x:\n",
    "            for child in item:\n",
    "                for ax in child:\n",
    "                    if child.tag == 'axis':\n",
    "                        axisvalues.append(ax.text.split())\n",
    "jointaxis = dict(zip(joints, axisvalues))\n",
    "\n",
    "axval = -1\n",
    "print(referenceframelist2)\n",
    "for x in referenceframelist2:\n",
    "    index = referenceframelist2.index(x)\n",
    "    if referenceframelist2.index(x) == 0:\n",
    "        pass\n",
    "    else:\n",
    "        if jointaxis[str(x)][0] == '1': \n",
    "            x.orient(referenceframelist2[index-1], 'Body', [jointposes[str(x)][3] + jointangletheta[axval], jointposes[str(x)][4], jointposes[str(x)][5]], 123)\n",
    "        elif jointaxis[str(x)][1] == '1':\n",
    "            x.orient(referenceframelist2[index-1], 'Body', [jointposes[str(x)][3], jointposes[str(x)][4] + jointangletheta[axval], jointposes[str(x)][5]], 123)\n",
    "        elif jointaxis[str(x)][2] == '1':\n",
    "            x.orient(referenceframelist2[index-1], 'Body', [jointposes[str(x)][3], jointposes[str(x)][4] , jointposes[str(x)][5] + jointangletheta[axval]], 123)\n",
    "        else:\n",
    "            x.orient(referenceframelist2[index-1], 'Body', [jointposes[str(x)][3], jointposes[str(x)][4] , jointposes[str(x)][5] + jointangletheta[axval]], 123)\n",
    "        axval = axval + 1\n",
    "\n",
    "        rotationmatrix = []\n",
    "\n",
    "for x in referenceframelist2:\n",
    "    ind = referenceframelist2.index(x)\n",
    "    if referenceframelist2.index(x) == len(referenceframelist2)-1:\n",
    "        pass\n",
    "    else:\n",
    "        rotmatrix = x.dcm(referenceframelist2[ind+1])\n",
    "        rotationmatrix.append(rotmatrix.simplify())"
   ]
  },
  {
   "cell_type": "code",
   "execution_count": 2,
   "id": "0e890c2d",
   "metadata": {},
   "outputs": [
    {
     "data": {
      "text/latex": [
       "$\\displaystyle \\left[ \\left[\\begin{matrix}\\cos{\\left(\\theta_{2}{\\left(t \\right)} \\right)} & - \\sin{\\left(\\theta_{2}{\\left(t \\right)} \\right)} & 0 & 0.0\\\\\\sin{\\left(\\theta_{2}{\\left(t \\right)} \\right)} & \\cos{\\left(\\theta_{2}{\\left(t \\right)} \\right)} & 0 & 0.0\\\\0 & 0 & 1 & 0.0\\\\0 & 0 & 0 & 1\\end{matrix}\\right], \\  \\left[\\begin{matrix}- 0.416146836547142 \\cos{\\left(\\theta_{1}{\\left(t \\right)} + 3.0 \\right)} & 0.416146836547142 \\sin{\\left(\\theta_{1}{\\left(t \\right)} + 3.0 \\right)} & 0.909297426825682 & 3.0\\\\- 0.642872836134547 \\sin{\\left(\\theta_{1}{\\left(t \\right)} \\right)} - 0.681242720256403 \\cos{\\left(\\theta_{1}{\\left(t \\right)} \\right)} & 0.681242720256403 \\sin{\\left(\\theta_{1}{\\left(t \\right)} \\right)} - 0.642872836134547 \\cos{\\left(\\theta_{1}{\\left(t \\right)} \\right)} & 0.350175488374015 & 0.0\\\\- 0.763718336650279 \\sin{\\left(\\theta_{1}{\\left(t \\right)} \\right)} + 0.605127247241369 \\cos{\\left(\\theta_{1}{\\left(t \\right)} \\right)} & - 0.605127247241369 \\sin{\\left(\\theta_{1}{\\left(t \\right)} \\right)} - 0.763718336650279 \\cos{\\left(\\theta_{1}{\\left(t \\right)} \\right)} & -0.224845095366153 & 0.0\\\\0 & 0 & 0 & 1\\end{matrix}\\right]\\right]$"
      ],
      "text/plain": [
       "⎡⎡cos(θ₂(t))  -sin(θ₂(t))  0  0.0⎤  ⎡            -0.416146836547142⋅cos(θ₁(t) \n",
       "⎢⎢                               ⎥  ⎢                                         \n",
       "⎢⎢sin(θ₂(t))  cos(θ₂(t))   0  0.0⎥  ⎢-0.642872836134547⋅sin(θ₁(t)) - 0.6812427\n",
       "⎢⎢                               ⎥, ⎢                                         \n",
       "⎢⎢    0            0       1  0.0⎥  ⎢-0.763718336650279⋅sin(θ₁(t)) + 0.6051272\n",
       "⎢⎢                               ⎥  ⎢                                         \n",
       "⎣⎣    0            0       0   1 ⎦  ⎣                             0           \n",
       "\n",
       "+ 3.0)                            0.416146836547142⋅sin(θ₁(t) + 3.0)          \n",
       "                                                                              \n",
       "20256403⋅cos(θ₁(t))  0.681242720256403⋅sin(θ₁(t)) - 0.642872836134547⋅cos(θ₁(t\n",
       "                                                                              \n",
       "47241369⋅cos(θ₁(t))  -0.605127247241369⋅sin(θ₁(t)) - 0.763718336650279⋅cos(θ₁(\n",
       "                                                                              \n",
       "                                                  0                           \n",
       "\n",
       "     0.909297426825682   3.0⎤⎤\n",
       "                            ⎥⎥\n",
       "))   0.350175488374015   0.0⎥⎥\n",
       "                            ⎥⎥\n",
       "t))  -0.224845095366153  0.0⎥⎥\n",
       "                            ⎥⎥\n",
       "             0            1 ⎦⎦"
      ]
     },
     "execution_count": 2,
     "metadata": {},
     "output_type": "execute_result"
    }
   ],
   "source": [
    "from sympy import *\n",
    "init_printing(use_unicode=True)\n",
    "transformationmatrix = []\n",
    "i = 1\n",
    "for x in rotationmatrix:\n",
    "    r1 = [x[0], x[1], x[2], jointposes[str(referenceframelist2[i])][0]]\n",
    "    r2 = [x[3], x[4], x[5], jointposes[str(referenceframelist2[i])][1]]\n",
    "    r3 = [x[6], x[7], x[8], jointposes[str(referenceframelist2[i])][2]]\n",
    "    r4 = [0, 0, 0, 1]\n",
    "    \n",
    "    i = i+1\n",
    "    tm = Matrix([r1, r2, r3, r4])\n",
    "    transformationmatrix.append(tm)\n",
    "transformationmatrix"
   ]
  },
  {
   "cell_type": "code",
   "execution_count": 3,
   "id": "3351b1cc",
   "metadata": {},
   "outputs": [],
   "source": [
    "sub1 = transformationmatrix[0].subs({jointangletheta[0]:pi, jointangletheta[1]:pi/4})\n",
    "sub2 = transformationmatrix[1].subs({jointangletheta[0]:pi, jointangletheta[1]:pi/6})"
   ]
  },
  {
   "cell_type": "code",
   "execution_count": 4,
   "id": "627a5912",
   "metadata": {},
   "outputs": [],
   "source": [
    "transform2 = [sub1, sub2]\n",
    "inversedjointtransform = []\n",
    "ind = 1\n",
    "for x in transform2:\n",
    "    if transform2.index(x) == 0:\n",
    "        inversedjointtransform.append(x)\n",
    "    else:\n",
    "        inversedjointtransform.append(transform2[ind].inv())\n",
    "        ind = ind+1"
   ]
  },
  {
   "cell_type": "code",
   "execution_count": 5,
   "id": "7bad0a8e",
   "metadata": {},
   "outputs": [
    {
     "data": {
      "text/latex": [
       "$\\displaystyle \\left[\\begin{matrix}- 0.176627800369031 \\sqrt{2} & 0.0191849420609282 \\sqrt{2} & - 0.684422791945824 \\sqrt{2} & 0.529883401107093 \\sqrt{2}\\\\- 0.235354445296652 \\sqrt{2} & 0.662057778195475 \\sqrt{2} & 0.0792955447044552 \\sqrt{2} & 0.706063335889956 \\sqrt{2}\\\\0.909297426825682 & 0.350175488374015 & -0.224845095366153 & -2.72789228047704\\\\0 & 0 & 0 & 1\\end{matrix}\\right]$"
      ],
      "text/plain": [
       "⎡-0.176627800369031⋅√2  0.0191849420609282⋅√2  -0.684422791945824⋅√2  0.529883\n",
       "⎢                                                                             \n",
       "⎢-0.235354445296652⋅√2  0.662057778195475⋅√2   0.0792955447044552⋅√2  0.706063\n",
       "⎢                                                                             \n",
       "⎢  0.909297426825682      0.350175488374015     -0.224845095366153     -2.7278\n",
       "⎢                                                                             \n",
       "⎣          0                      0                      0                    \n",
       "\n",
       "401107093⋅√2⎤\n",
       "            ⎥\n",
       "335889956⋅√2⎥\n",
       "            ⎥\n",
       "9228047704  ⎥\n",
       "            ⎥\n",
       " 1          ⎦"
      ]
     },
     "execution_count": 5,
     "metadata": {},
     "output_type": "execute_result"
    }
   ],
   "source": [
    "from functools import reduce\n",
    "reduce(lambda x, y: x*y, inversedjointtransform)"
   ]
  },
  {
   "cell_type": "code",
   "execution_count": null,
   "id": "b1579d1c",
   "metadata": {},
   "outputs": [],
   "source": []
  }
 ],
 "metadata": {
  "kernelspec": {
   "display_name": "Python 3",
   "language": "python",
   "name": "python3"
  },
  "language_info": {
   "codemirror_mode": {
    "name": "ipython",
    "version": 3
   },
   "file_extension": ".py",
   "mimetype": "text/x-python",
   "name": "python",
   "nbconvert_exporter": "python",
   "pygments_lexer": "ipython3",
   "version": "3.8.8"
  }
 },
 "nbformat": 4,
 "nbformat_minor": 5
}
